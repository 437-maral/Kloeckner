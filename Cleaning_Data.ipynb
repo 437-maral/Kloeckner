{
 "cells": [
  {
   "cell_type": "code",
   "execution_count": 1,
   "id": "b818ee1f-13c3-4ced-b0ae-43656e904ed9",
   "metadata": {},
   "outputs": [],
   "source": [
    "import pandas as pd\n",
    "import numpy as np"
   ]
  },
  {
   "cell_type": "code",
   "execution_count": 2,
   "id": "5fc8ac1d-0f14-475a-836c-b30bcccbf9bc",
   "metadata": {},
   "outputs": [],
   "source": [
    "\n",
    "# here i have corrected data , but i need extraction and corrected data\n",
    "\n",
    "corrected=pd.read_csv('corrected.csv')\n",
    "\n",
    "original_column= [column for column in corrected.columns[7:] if  not \"corrected\" in column.split(\"_\")]\n",
    "#extraction data \n",
    "extraction= pd.concat([corrected.iloc[:, :7], corrected[original_column]], axis=1)"
   ]
  },
  {
   "cell_type": "code",
   "execution_count": 3,
   "id": "0530c5d3-38a2-4e50-879a-bb6a5dfc4aef",
   "metadata": {},
   "outputs": [
    {
     "data": {
      "text/plain": [
       "374652"
      ]
     },
     "execution_count": 3,
     "metadata": {},
     "output_type": "execute_result"
    }
   ],
   "source": [
    "len(extraction[\"document_id\"].unique()) #355827"
   ]
  },
  {
   "cell_type": "code",
   "execution_count": 4,
   "id": "c1f0e3ff-8558-4b0e-92db-aa7b45449e21",
   "metadata": {},
   "outputs": [],
   "source": [
    "ground_truth = pd.read_excel(\"GroundTruth_KCD.xlsx\")\n",
    "\n",
    "\n",
    "def match_with_ground_truth(ground, data):\n",
    "    merged_data = pd.merge(data, ground[['document ID']], how='inner', left_on='document_id', right_on='document ID')\n",
    "    # Dropping the extra column from the merge\n",
    "    merged_data.drop(columns=['document ID'], inplace=True)\n",
    "    return merged_data"
   ]
  },
  {
   "cell_type": "code",
   "execution_count": 5,
   "id": "07073e90-e3d9-40ea-80d4-72271196b26e",
   "metadata": {},
   "outputs": [],
   "source": [
    "#match with ground_truth data\n",
    "original_filtered_ground = match_with_ground_truth(ground_truth, extraction)\n",
    "corrected_filtered_ground = match_with_ground_truth(ground_truth, corrected)"
   ]
  },
  {
   "cell_type": "code",
   "execution_count": 6,
   "id": "5f2cbfd6-2329-4985-b8d7-8525f95f0257",
   "metadata": {},
   "outputs": [],
   "source": [
    "##get accurance of each document id to get line item number\n",
    "def get_accurance(data):\n",
    "    # Get the occurrence of each document_id\n",
    "    document_id_counts = data['document_id'].value_counts().reset_index()\n",
    "    document_id_counts.columns = ['document_id', 'count']\n",
    "    return document_id_counts\n"
   ]
  },
  {
   "cell_type": "code",
   "execution_count": 7,
   "id": "32a471d7-52fe-41f9-8ae9-0692a3d7e6c9",
   "metadata": {},
   "outputs": [
    {
     "data": {
      "text/plain": [
       "201"
      ]
     },
     "execution_count": 7,
     "metadata": {},
     "output_type": "execute_result"
    }
   ],
   "source": [
    "len(original_filtered_ground[\"document_id\"].unique()) #201"
   ]
  },
  {
   "cell_type": "code",
   "execution_count": 8,
   "id": "faf6828a-3fd9-438e-bce4-06b0e155f04c",
   "metadata": {},
   "outputs": [],
   "source": [
    "## get document id for original and corrected data\n",
    "original_document_id_counts= get_accurance(original_filtered_ground)\n",
    "corrected_document_id_counts= get_accurance(corrected_filtered_ground)\n"
   ]
  },
  {
   "cell_type": "code",
   "execution_count": 9,
   "id": "5a82cf4a-76f3-4076-9e6b-b1e431e83268",
   "metadata": {},
   "outputs": [],
   "source": [
    "def get_meta_data(data, extracted=True):\n",
    "    data_collection = set()\n",
    "\n",
    "    for _, row in data.iterrows():\n",
    "        # there is no difference between original and corrected data\n",
    "        organization = row['code']\n",
    "        customer_erp_id = row['erp_id']\n",
    "        document_id = row['document_id']\n",
    "\n",
    "        if extracted:\n",
    "            po_number = row['po_number_original']\n",
    "            po_date = row['po_date_original']\n",
    "            doc_type = row['doc_type_original']\n",
    "            data_collection.add((organization, customer_erp_id, document_id, po_number, po_date, doc_type))\n",
    "        else:\n",
    "      \n",
    "            #corrected\n",
    "            po_number_c= row['po_number_corrected']\n",
    "            po_date_c= row['po_date_corrected']\n",
    "            doc_type_c= row['doc_type_corrected']\n",
    "            data_collection.add((organization, customer_erp_id, document_id,po_number_c, po_date_c ,  doc_type_c))\n",
    "    \n",
    "    # Convert the set to a list and create a DataFrame with appropriate columns\n",
    "    data_collection = list(data_collection)\n",
    "    \n",
    "    if extracted:\n",
    "        columns = ['Organization', 'ERP Number', 'document ID', 'po number', 'po date', 'doc type']\n",
    "    else:\n",
    "        columns = ['Organization', 'ERP Number', 'document ID', 'po number', 'po date', 'doc type']\n",
    "    \n",
    "    data_copy = pd.DataFrame(data_collection, columns=columns)\n",
    "    return data_copy\n",
    "\n",
    "\n",
    "\n"
   ]
  },
  {
   "cell_type": "code",
   "execution_count": 10,
   "id": "6f1b0e57-1d39-4cbd-a338-3b9e1de22ce8",
   "metadata": {},
   "outputs": [],
   "source": [
    "#contain original data\n",
    "original_copy=get_meta_data(original_filtered_ground , extracted=True)\n",
    "#contain original and corrected data\n",
    "corrected_copy=get_meta_data(corrected_filtered_ground,extracted=False)   "
   ]
  },
  {
   "cell_type": "code",
   "execution_count": 11,
   "id": "e360baf1-e370-427e-9704-ace7e889e9cd",
   "metadata": {},
   "outputs": [],
   "source": [
    "def add_unit_quantity(id_counts, data_copy,data):\n",
    "    # Create a dictionary for fast lookups\n",
    "    doc_id_to_count = dict(zip(id_counts['document_id'], id_counts['count']))\n",
    "    \n",
    "    # Add number of line items\n",
    "    data_copy['num_line_items'] = data_copy['document ID'].map(doc_id_to_count)\n",
    "    \n",
    "    # Add empty unit and quantity columns\n",
    "    for i in range(1, 9):\n",
    "        data_copy[f'li{i}_unit'] = np.nan\n",
    "        data_copy[f'li{i}_qty'] = np.nan\n",
    "\n",
    "    collection = {}\n",
    "    for idx, row in data.iterrows():\n",
    "        doc_id = row['document_id']\n",
    "        if doc_id not in collection:\n",
    "            collection[doc_id] = []\n",
    "            #original data\n",
    "        collection[doc_id].append((row['unit_original'], row['quantity_original']))\n",
    "\n",
    "    # Update data with values from collection\n",
    "    for idx, row in data_copy.iterrows():\n",
    "        doc_id = row['document ID']\n",
    "        if doc_id in collection:\n",
    "            # get respective unit and quantity based on document id \n",
    "            units_and_quantities = collection[doc_id]\n",
    "            for i in range(min(len(units_and_quantities), 8)):  # Ensure we don't exceed 8 line items\n",
    "                data_copy.at[idx, f'li{i+1}_unit'] = units_and_quantities[i][0]\n",
    "                data_copy.at[idx, f'li{i+1}_qty'] = units_and_quantities[i][1]\n",
    "\n",
    "    return data_copy\n",
    "        \n",
    "    \n",
    "\n"
   ]
  },
  {
   "cell_type": "code",
   "execution_count": 12,
   "id": "f053ef42-3493-4dcd-bef0-7a26c5224968",
   "metadata": {},
   "outputs": [],
   "source": [
    "def add_unit_quantity_non_original(id_counts, data_copy, data):\n",
    "\n",
    "    ### Add num line item\n",
    "    doc_id_to_count = dict(zip(id_counts['document_id'], id_counts['count']))\n",
    "    \n",
    "    data_copy['num_line_items'] = data_copy['document ID'].map(doc_id_to_count)\n",
    "    \n",
    "    # Add empty unit and quantity columns for both original and non-original\n",
    "    for i in range(1, 9):\n",
    "        data_copy[f'li{i}_unit'] = np.nan\n",
    "        data_copy[f'li{i}_qty'] = np.nan\n",
    "\n",
    "    ### Collect quantity and unit from the data itself\n",
    "    collection = {}\n",
    "    for idx, row in data.iterrows():\n",
    "        doc_id = row['document_id']\n",
    "        if doc_id not in collection:\n",
    "            collection[doc_id] = []\n",
    "            #corrected data\n",
    "        collection[doc_id].append((row['unit_corrected'], row['quantity_corrected']))\n",
    "       \n",
    "    # Update data with values from collection\n",
    "    for idx, row in data_copy.iterrows():\n",
    "        doc_id = row['document ID']\n",
    "        if doc_id in collection:\n",
    "            # Get respective unit and quantity based on document id \n",
    "            units_and_quantities = collection[doc_id]\n",
    "            for i in range(min(len(units_and_quantities), 8)):\n",
    "                data_copy.at[idx, f'li{i+1}_unit'] = units_and_quantities[i][0]\n",
    "                data_copy.at[idx, f'li{i+1}_qty'] = units_and_quantities[i][1]\n",
    "\n",
    "    return data_copy"
   ]
  },
  {
   "cell_type": "code",
   "execution_count": 13,
   "id": "c5724c29-db1e-4648-9ae7-21618ba44abf",
   "metadata": {},
   "outputs": [
    {
     "name": "stderr",
     "output_type": "stream",
     "text": [
      "/var/folders/05/m0z3j2y1647d9pk4d3932ks80000gn/T/ipykernel_23845/1737071518.py:28: FutureWarning: Setting an item of incompatible dtype is deprecated and will raise an error in a future version of pandas. Value 'PCE' has dtype incompatible with float64, please explicitly cast to a compatible dtype first.\n",
      "  data_copy.at[idx, f'li{i+1}_unit'] = units_and_quantities[i][0]\n",
      "/var/folders/05/m0z3j2y1647d9pk4d3932ks80000gn/T/ipykernel_23845/1737071518.py:28: FutureWarning: Setting an item of incompatible dtype is deprecated and will raise an error in a future version of pandas. Value 'PCE' has dtype incompatible with float64, please explicitly cast to a compatible dtype first.\n",
      "  data_copy.at[idx, f'li{i+1}_unit'] = units_and_quantities[i][0]\n",
      "/var/folders/05/m0z3j2y1647d9pk4d3932ks80000gn/T/ipykernel_23845/1737071518.py:28: FutureWarning: Setting an item of incompatible dtype is deprecated and will raise an error in a future version of pandas. Value 'PCE' has dtype incompatible with float64, please explicitly cast to a compatible dtype first.\n",
      "  data_copy.at[idx, f'li{i+1}_unit'] = units_and_quantities[i][0]\n",
      "/var/folders/05/m0z3j2y1647d9pk4d3932ks80000gn/T/ipykernel_23845/1737071518.py:28: FutureWarning: Setting an item of incompatible dtype is deprecated and will raise an error in a future version of pandas. Value 'MTR' has dtype incompatible with float64, please explicitly cast to a compatible dtype first.\n",
      "  data_copy.at[idx, f'li{i+1}_unit'] = units_and_quantities[i][0]\n",
      "/var/folders/05/m0z3j2y1647d9pk4d3932ks80000gn/T/ipykernel_23845/1737071518.py:28: FutureWarning: Setting an item of incompatible dtype is deprecated and will raise an error in a future version of pandas. Value 'MTR' has dtype incompatible with float64, please explicitly cast to a compatible dtype first.\n",
      "  data_copy.at[idx, f'li{i+1}_unit'] = units_and_quantities[i][0]\n",
      "/var/folders/05/m0z3j2y1647d9pk4d3932ks80000gn/T/ipykernel_23845/1737071518.py:28: FutureWarning: Setting an item of incompatible dtype is deprecated and will raise an error in a future version of pandas. Value 'PCE' has dtype incompatible with float64, please explicitly cast to a compatible dtype first.\n",
      "  data_copy.at[idx, f'li{i+1}_unit'] = units_and_quantities[i][0]\n",
      "/var/folders/05/m0z3j2y1647d9pk4d3932ks80000gn/T/ipykernel_23845/1737071518.py:28: FutureWarning: Setting an item of incompatible dtype is deprecated and will raise an error in a future version of pandas. Value 'PCE' has dtype incompatible with float64, please explicitly cast to a compatible dtype first.\n",
      "  data_copy.at[idx, f'li{i+1}_unit'] = units_and_quantities[i][0]\n",
      "/var/folders/05/m0z3j2y1647d9pk4d3932ks80000gn/T/ipykernel_23845/1737071518.py:28: FutureWarning: Setting an item of incompatible dtype is deprecated and will raise an error in a future version of pandas. Value 'KGM' has dtype incompatible with float64, please explicitly cast to a compatible dtype first.\n",
      "  data_copy.at[idx, f'li{i+1}_unit'] = units_and_quantities[i][0]\n",
      "/var/folders/05/m0z3j2y1647d9pk4d3932ks80000gn/T/ipykernel_23845/2174026127.py:29: FutureWarning: Setting an item of incompatible dtype is deprecated and will raise an error in a future version of pandas. Value 'KGM' has dtype incompatible with float64, please explicitly cast to a compatible dtype first.\n",
      "  data_copy.at[idx, f'li{i+1}_unit'] = units_and_quantities[i][0]\n",
      "/var/folders/05/m0z3j2y1647d9pk4d3932ks80000gn/T/ipykernel_23845/2174026127.py:29: FutureWarning: Setting an item of incompatible dtype is deprecated and will raise an error in a future version of pandas. Value 'MTR' has dtype incompatible with float64, please explicitly cast to a compatible dtype first.\n",
      "  data_copy.at[idx, f'li{i+1}_unit'] = units_and_quantities[i][0]\n",
      "/var/folders/05/m0z3j2y1647d9pk4d3932ks80000gn/T/ipykernel_23845/2174026127.py:29: FutureWarning: Setting an item of incompatible dtype is deprecated and will raise an error in a future version of pandas. Value 'MTR' has dtype incompatible with float64, please explicitly cast to a compatible dtype first.\n",
      "  data_copy.at[idx, f'li{i+1}_unit'] = units_and_quantities[i][0]\n",
      "/var/folders/05/m0z3j2y1647d9pk4d3932ks80000gn/T/ipykernel_23845/2174026127.py:29: FutureWarning: Setting an item of incompatible dtype is deprecated and will raise an error in a future version of pandas. Value 'MTR' has dtype incompatible with float64, please explicitly cast to a compatible dtype first.\n",
      "  data_copy.at[idx, f'li{i+1}_unit'] = units_and_quantities[i][0]\n",
      "/var/folders/05/m0z3j2y1647d9pk4d3932ks80000gn/T/ipykernel_23845/2174026127.py:29: FutureWarning: Setting an item of incompatible dtype is deprecated and will raise an error in a future version of pandas. Value 'PCE' has dtype incompatible with float64, please explicitly cast to a compatible dtype first.\n",
      "  data_copy.at[idx, f'li{i+1}_unit'] = units_and_quantities[i][0]\n",
      "/var/folders/05/m0z3j2y1647d9pk4d3932ks80000gn/T/ipykernel_23845/2174026127.py:29: FutureWarning: Setting an item of incompatible dtype is deprecated and will raise an error in a future version of pandas. Value 'PCE' has dtype incompatible with float64, please explicitly cast to a compatible dtype first.\n",
      "  data_copy.at[idx, f'li{i+1}_unit'] = units_and_quantities[i][0]\n",
      "/var/folders/05/m0z3j2y1647d9pk4d3932ks80000gn/T/ipykernel_23845/2174026127.py:29: FutureWarning: Setting an item of incompatible dtype is deprecated and will raise an error in a future version of pandas. Value 'PCE' has dtype incompatible with float64, please explicitly cast to a compatible dtype first.\n",
      "  data_copy.at[idx, f'li{i+1}_unit'] = units_and_quantities[i][0]\n",
      "/var/folders/05/m0z3j2y1647d9pk4d3932ks80000gn/T/ipykernel_23845/2174026127.py:29: FutureWarning: Setting an item of incompatible dtype is deprecated and will raise an error in a future version of pandas. Value 'KGM' has dtype incompatible with float64, please explicitly cast to a compatible dtype first.\n",
      "  data_copy.at[idx, f'li{i+1}_unit'] = units_and_quantities[i][0]\n"
     ]
    }
   ],
   "source": [
    "Final_original=add_unit_quantity(original_document_id_counts, original_copy,original_filtered_ground)\n",
    "Final_corrected=add_unit_quantity_non_original(corrected_document_id_counts, corrected_copy,corrected_filtered_ground)"
   ]
  },
  {
   "cell_type": "code",
   "execution_count": 14,
   "id": "13b9a9c9-eb93-4653-ad69-b65892067a0d",
   "metadata": {},
   "outputs": [],
   "source": [
    "Final_original[\"ERP Number\"]=Final_original[\"ERP Number\"].astype(int)\n",
    "Final_corrected[\"ERP Number\"]=Final_corrected[\"ERP Number\"].astype(int)\n",
    "\n",
    "\n",
    "###dtype\n",
    "Final_original=Final_original.astype(str)\n",
    "Final_corrected=Final_corrected.astype(str)\n",
    "ground_truth=ground_truth.astype(str)"
   ]
  },
  {
   "cell_type": "code",
   "execution_count": 15,
   "id": "20767d0c-7c23-4559-b134-778ec2c4ebad",
   "metadata": {},
   "outputs": [],
   "source": [
    "def compare(ground, extraction=None, correction=None, given_data_extracted=False, given_data_corrected=False, num_data_given=2):\n",
    "    unmatched_document_id = []\n",
    "    check_document_id=[]\n",
    "    # Validate input parameters\n",
    "    if not (given_data_extracted or given_data_corrected):\n",
    "        raise ValueError(\"At least one of 'given_data_extracted' or 'given_data_corrected' must be given\")\n",
    "\n",
    "    if num_data_given not in [2, 3]:\n",
    "        raise ValueError(\"'num_data_given' must be either 2 or 3\")\n",
    "\n",
    "    # Process each row in the ground truth data\n",
    "    for i, row in ground.iterrows():\n",
    "        document_id = row[\"document ID\"]\n",
    "        ground_truth_row = ground[ground[\"document ID\"] == document_id].reset_index(drop=True)\n",
    "\n",
    "        # Check against extracted data if provided\n",
    "        if given_data_extracted and extraction is not None:\n",
    "            extracted_row = extraction[extraction[\"document ID\"] == document_id].reset_index(drop=True)\n",
    "            #check between extracted data and ground truth \n",
    "            if ground_truth_row.equals(extracted_row):\n",
    "                print(f\"The extraction and ground truth completely match {document_id}\")\n",
    "                \n",
    "            else:\n",
    "                unmatched_document_id.append(document_id)\n",
    "\n",
    "        # Check against corrected data if provided\n",
    "        if given_data_corrected and correction is not None:\n",
    "            corrected_row = correction[correction[\"document ID\"] == document_id].reset_index(drop=True)\n",
    "            #check between corrected data and ground truth\n",
    "            if ground_truth_row.equals(corrected_row):\n",
    "                print(f\"The correction and ground truth completely match {document_id}\")\n",
    "            else:\n",
    "                unmatched_document_id.append(document_id)\n",
    "\n",
    "        # Additional check when both extracted and corrected data are given\n",
    "        if num_data_given == 3 and given_data_extracted and given_data_corrected:\n",
    "            extracted_row = extraction[extraction[\"document ID\"] == document_id].reset_index(drop=True)\n",
    "            corrected_row = correction[correction[\"document ID\"] == document_id].reset_index(drop=True)\n",
    "            #check between extracted data then not match with corrected data \n",
    "            if ground_truth_row.equals(extracted_row) and not ground_truth_row.equals(corrected_row):\n",
    "                print(f\"Business change detected for document ID {document_id}\")\n",
    "                check_document_id.append(document_id)\n",
    "                \n",
    "\n",
    "    return unmatched_document_id ,check_document_id\n"
   ]
  },
  {
   "cell_type": "code",
   "execution_count": 16,
   "id": "b69d93e9-81e3-4242-9614-a916d23e010d",
   "metadata": {},
   "outputs": [
    {
     "name": "stdout",
     "output_type": "stream",
     "text": [
      "The extraction and ground truth completely match 12d3653d-c7d8-4ed0-a65d-799318eb35c1\n",
      "The extraction and ground truth completely match 14824f09-cde7-4c55-809e-f5cffe463b9f\n",
      "The extraction and ground truth completely match 23120b32-0a2f-4be9-b41b-05f31db1dd08\n",
      "The extraction and ground truth completely match 2742fb5f-be8e-405c-b7cb-847b0955a84d\n",
      "The extraction and ground truth completely match 27e9108a-ef71-4dc3-82a9-fdb683f40505\n",
      "The extraction and ground truth completely match 3606609d-8e96-426d-bfcf-b8cab8b0aaeb\n",
      "The extraction and ground truth completely match 382fa376-b8f0-4ed5-941a-1dae1886167a\n",
      "The extraction and ground truth completely match 4560c6ec-e317-4e58-9b46-d75220873337\n",
      "The extraction and ground truth completely match 49757809-d024-43fc-a1d0-5eb4faa2e1b2\n",
      "The extraction and ground truth completely match 773e7bd7-96d8-49a2-b1ae-702a04bc0cd9\n",
      "The extraction and ground truth completely match 78b43585-9738-4212-b9c7-2c4a79ebc86d\n",
      "The extraction and ground truth completely match 7f9b77cb-e020-4001-bfcf-13a05fe9df8c\n",
      "The extraction and ground truth completely match 8bc83757-73b9-486e-abc2-40badcaf3ce0\n",
      "The extraction and ground truth completely match 8d683c6e-ccbc-4d63-8255-555741bdcf96\n",
      "The extraction and ground truth completely match a77edaae-c8b4-40e8-abc6-d8c65a0bfdd9\n",
      "The extraction and ground truth completely match b0b13766-9fa2-4a52-9b4d-c264f6aaed69\n",
      "The extraction and ground truth completely match c9a7b5eb-2b1d-4f5a-8717-0163b1e4cecb\n",
      "The extraction and ground truth completely match cf1366ce-591b-45d6-af1a-2c6302a5f505\n",
      "The extraction and ground truth completely match ed596351-6fb1-4cbf-858f-ee234014b2a3\n"
     ]
    }
   ],
   "source": [
    "#extraction\n",
    "EX_unmatch_doc,_ = compare(ground_truth, extraction=Final_original,correction=None, given_data_extracted=True, num_data_given=2)"
   ]
  },
  {
   "cell_type": "code",
   "execution_count": 17,
   "id": "cc5411eb-1b90-4351-8b5d-486d4bce42c7",
   "metadata": {},
   "outputs": [
    {
     "name": "stdout",
     "output_type": "stream",
     "text": [
      "The extraction and ground truth completely match 12d3653d-c7d8-4ed0-a65d-799318eb35c1\n",
      "The correction and ground truth completely match 12d3653d-c7d8-4ed0-a65d-799318eb35c1\n",
      "The extraction and ground truth completely match 14824f09-cde7-4c55-809e-f5cffe463b9f\n",
      "The correction and ground truth completely match 14824f09-cde7-4c55-809e-f5cffe463b9f\n",
      "The correction and ground truth completely match 21c1c444-b4d5-4b05-95da-2144da48612e\n",
      "The correction and ground truth completely match 22adbf0f-bece-4bf8-9a28-7570b5029988\n",
      "The extraction and ground truth completely match 23120b32-0a2f-4be9-b41b-05f31db1dd08\n",
      "The correction and ground truth completely match 23120b32-0a2f-4be9-b41b-05f31db1dd08\n",
      "The extraction and ground truth completely match 2742fb5f-be8e-405c-b7cb-847b0955a84d\n",
      "Business change detected for document ID 2742fb5f-be8e-405c-b7cb-847b0955a84d\n",
      "The extraction and ground truth completely match 27e9108a-ef71-4dc3-82a9-fdb683f40505\n",
      "Business change detected for document ID 27e9108a-ef71-4dc3-82a9-fdb683f40505\n",
      "The correction and ground truth completely match 317ddee6-14e7-4498-8fad-a52f663f5a7d\n",
      "The extraction and ground truth completely match 3606609d-8e96-426d-bfcf-b8cab8b0aaeb\n",
      "Business change detected for document ID 3606609d-8e96-426d-bfcf-b8cab8b0aaeb\n",
      "The correction and ground truth completely match 363420be-2fe4-4f99-8306-fdec17861915\n",
      "The extraction and ground truth completely match 382fa376-b8f0-4ed5-941a-1dae1886167a\n",
      "Business change detected for document ID 382fa376-b8f0-4ed5-941a-1dae1886167a\n",
      "The correction and ground truth completely match 3bab17f3-a115-4160-9611-40d774a4defd\n",
      "The correction and ground truth completely match 3be0ecc1-8ee9-4c57-baaa-12b1200de8e1\n",
      "The correction and ground truth completely match 3f09d15e-55f7-4870-8dc8-e23393490788\n",
      "The extraction and ground truth completely match 4560c6ec-e317-4e58-9b46-d75220873337\n",
      "The correction and ground truth completely match 4560c6ec-e317-4e58-9b46-d75220873337\n",
      "The correction and ground truth completely match 466d9401-4bf2-45bf-9ffd-0918e6f39374\n",
      "The extraction and ground truth completely match 49757809-d024-43fc-a1d0-5eb4faa2e1b2\n",
      "The correction and ground truth completely match 49757809-d024-43fc-a1d0-5eb4faa2e1b2\n",
      "The correction and ground truth completely match 5807cef5-1d2a-4f2a-ada8-76f43be4c21e\n",
      "The correction and ground truth completely match 63f32835-a605-4dbe-aa5d-2d62770ba24e\n",
      "The correction and ground truth completely match 687bbc61-0cdf-4c9a-8c5d-b0d1c2ff99e3\n",
      "The correction and ground truth completely match 6b20506d-609d-439e-b5fa-0ff414560496\n",
      "The correction and ground truth completely match 6d15e9f7-aeac-461a-845d-9d12851162ca\n",
      "The extraction and ground truth completely match 773e7bd7-96d8-49a2-b1ae-702a04bc0cd9\n",
      "Business change detected for document ID 773e7bd7-96d8-49a2-b1ae-702a04bc0cd9\n",
      "The extraction and ground truth completely match 78b43585-9738-4212-b9c7-2c4a79ebc86d\n",
      "Business change detected for document ID 78b43585-9738-4212-b9c7-2c4a79ebc86d\n",
      "The correction and ground truth completely match 7dfdf34d-04b2-48b1-9c32-5ad72f289565\n",
      "The extraction and ground truth completely match 7f9b77cb-e020-4001-bfcf-13a05fe9df8c\n",
      "The correction and ground truth completely match 7f9b77cb-e020-4001-bfcf-13a05fe9df8c\n",
      "The correction and ground truth completely match 83ecf1dc-47ab-4ea6-b6f1-d1a6ce46597e\n",
      "The correction and ground truth completely match 86d58d75-7dee-49ad-ae43-71d289df9da2\n",
      "The correction and ground truth completely match 88201b81-1bb3-464e-846d-900c635ecd6f\n",
      "The correction and ground truth completely match 8ba47db6-b86b-4037-a780-c1f21397426c\n",
      "The extraction and ground truth completely match 8bc83757-73b9-486e-abc2-40badcaf3ce0\n",
      "The correction and ground truth completely match 8bc83757-73b9-486e-abc2-40badcaf3ce0\n",
      "The extraction and ground truth completely match 8d683c6e-ccbc-4d63-8255-555741bdcf96\n",
      "Business change detected for document ID 8d683c6e-ccbc-4d63-8255-555741bdcf96\n",
      "The correction and ground truth completely match 99a66991-cf9e-4b8d-ac34-aa6be1b35047\n",
      "The correction and ground truth completely match a6062cec-ce57-4648-aace-45708f3f18cf\n",
      "The extraction and ground truth completely match a77edaae-c8b4-40e8-abc6-d8c65a0bfdd9\n",
      "The correction and ground truth completely match a77edaae-c8b4-40e8-abc6-d8c65a0bfdd9\n",
      "The extraction and ground truth completely match b0b13766-9fa2-4a52-9b4d-c264f6aaed69\n",
      "The correction and ground truth completely match b0b13766-9fa2-4a52-9b4d-c264f6aaed69\n",
      "The correction and ground truth completely match b3ed4761-993a-428e-8c66-82838c0278c9\n",
      "The extraction and ground truth completely match c9a7b5eb-2b1d-4f5a-8717-0163b1e4cecb\n",
      "Business change detected for document ID c9a7b5eb-2b1d-4f5a-8717-0163b1e4cecb\n",
      "The extraction and ground truth completely match cf1366ce-591b-45d6-af1a-2c6302a5f505\n",
      "The correction and ground truth completely match cf1366ce-591b-45d6-af1a-2c6302a5f505\n",
      "The correction and ground truth completely match ddd37db8-cea4-4815-a7e4-59acdfb56f78\n",
      "The correction and ground truth completely match e994e404-3fe9-4f58-bb33-7f10d3ca6010\n",
      "The extraction and ground truth completely match ed596351-6fb1-4cbf-858f-ee234014b2a3\n",
      "The correction and ground truth completely match ed596351-6fb1-4cbf-858f-ee234014b2a3\n",
      "The correction and ground truth completely match fad9e8af-c616-4bae-a1ed-8ad6ea21d988\n"
     ]
    }
   ],
   "source": [
    "#business change\n",
    "EX_unmatch_doc,ids_to_check =compare(ground_truth, extraction=Final_original,correction=Final_corrected, given_data_corrected=True,given_data_extracted=True, num_data_given=3)\n"
   ]
  },
  {
   "cell_type": "code",
   "execution_count": 18,
   "id": "dc74f96d-f125-4898-8239-db92b6877fc6",
   "metadata": {},
   "outputs": [
    {
     "name": "stdout",
     "output_type": "stream",
     "text": [
      "The correction and ground truth completely match 12d3653d-c7d8-4ed0-a65d-799318eb35c1\n",
      "The correction and ground truth completely match 14824f09-cde7-4c55-809e-f5cffe463b9f\n",
      "The correction and ground truth completely match 21c1c444-b4d5-4b05-95da-2144da48612e\n",
      "The correction and ground truth completely match 22adbf0f-bece-4bf8-9a28-7570b5029988\n",
      "The correction and ground truth completely match 23120b32-0a2f-4be9-b41b-05f31db1dd08\n",
      "The correction and ground truth completely match 317ddee6-14e7-4498-8fad-a52f663f5a7d\n",
      "The correction and ground truth completely match 363420be-2fe4-4f99-8306-fdec17861915\n",
      "The correction and ground truth completely match 3bab17f3-a115-4160-9611-40d774a4defd\n",
      "The correction and ground truth completely match 3be0ecc1-8ee9-4c57-baaa-12b1200de8e1\n",
      "The correction and ground truth completely match 3f09d15e-55f7-4870-8dc8-e23393490788\n",
      "The correction and ground truth completely match 4560c6ec-e317-4e58-9b46-d75220873337\n",
      "The correction and ground truth completely match 466d9401-4bf2-45bf-9ffd-0918e6f39374\n",
      "The correction and ground truth completely match 49757809-d024-43fc-a1d0-5eb4faa2e1b2\n",
      "The correction and ground truth completely match 5807cef5-1d2a-4f2a-ada8-76f43be4c21e\n",
      "The correction and ground truth completely match 63f32835-a605-4dbe-aa5d-2d62770ba24e\n",
      "The correction and ground truth completely match 687bbc61-0cdf-4c9a-8c5d-b0d1c2ff99e3\n",
      "The correction and ground truth completely match 6b20506d-609d-439e-b5fa-0ff414560496\n",
      "The correction and ground truth completely match 6d15e9f7-aeac-461a-845d-9d12851162ca\n",
      "The correction and ground truth completely match 7dfdf34d-04b2-48b1-9c32-5ad72f289565\n",
      "The correction and ground truth completely match 7f9b77cb-e020-4001-bfcf-13a05fe9df8c\n",
      "The correction and ground truth completely match 83ecf1dc-47ab-4ea6-b6f1-d1a6ce46597e\n",
      "The correction and ground truth completely match 86d58d75-7dee-49ad-ae43-71d289df9da2\n",
      "The correction and ground truth completely match 88201b81-1bb3-464e-846d-900c635ecd6f\n",
      "The correction and ground truth completely match 8ba47db6-b86b-4037-a780-c1f21397426c\n",
      "The correction and ground truth completely match 8bc83757-73b9-486e-abc2-40badcaf3ce0\n",
      "The correction and ground truth completely match 99a66991-cf9e-4b8d-ac34-aa6be1b35047\n",
      "The correction and ground truth completely match a6062cec-ce57-4648-aace-45708f3f18cf\n",
      "The correction and ground truth completely match a77edaae-c8b4-40e8-abc6-d8c65a0bfdd9\n",
      "The correction and ground truth completely match b0b13766-9fa2-4a52-9b4d-c264f6aaed69\n",
      "The correction and ground truth completely match b3ed4761-993a-428e-8c66-82838c0278c9\n",
      "The correction and ground truth completely match cf1366ce-591b-45d6-af1a-2c6302a5f505\n",
      "The correction and ground truth completely match ddd37db8-cea4-4815-a7e4-59acdfb56f78\n",
      "The correction and ground truth completely match e994e404-3fe9-4f58-bb33-7f10d3ca6010\n",
      "The correction and ground truth completely match ed596351-6fb1-4cbf-858f-ee234014b2a3\n",
      "The correction and ground truth completely match fad9e8af-c616-4bae-a1ed-8ad6ea21d988\n"
     ]
    }
   ],
   "source": [
    "#correction\n",
    "COR_unmatch_doc,_= compare(ground_truth, correction=Final_corrected,extraction=None, given_data_corrected=True, num_data_given=2)"
   ]
  }
 ],
 "metadata": {
  "kernelspec": {
   "display_name": "Python 3 (ipykernel)",
   "language": "python",
   "name": "python3"
  },
  "language_info": {
   "codemirror_mode": {
    "name": "ipython",
    "version": 3
   },
   "file_extension": ".py",
   "mimetype": "text/x-python",
   "name": "python",
   "nbconvert_exporter": "python",
   "pygments_lexer": "ipython3",
   "version": "3.12.3"
  }
 },
 "nbformat": 4,
 "nbformat_minor": 5
}
